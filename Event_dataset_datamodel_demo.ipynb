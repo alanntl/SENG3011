{
  "nbformat": 4,
  "nbformat_minor": 0,
  "metadata": {
    "colab": {
      "provenance": [],
      "toc_visible": true,
      "authorship_tag": "ABX9TyNJ/FEe6miw1Orz+WNXOvbX",
      "include_colab_link": true
    },
    "kernelspec": {
      "name": "python3",
      "display_name": "Python 3"
    },
    "language_info": {
      "name": "python"
    }
  },
  "cells": [
    {
      "cell_type": "markdown",
      "metadata": {
        "id": "view-in-github",
        "colab_type": "text"
      },
      "source": [
        "<a href=\"https://colab.research.google.com/github/alanntl/SENG3011/blob/alanntl/Event_dataset_datamodel_demo.ipynb\" target=\"_parent\"><img src=\"https://colab.research.google.com/assets/colab-badge.svg\" alt=\"Open In Colab\"/></a>"
      ]
    },
    {
      "cell_type": "markdown",
      "source": [
        "# Generic data model exmaple"
      ],
      "metadata": {
        "id": "JYBKOk6SqKob"
      }
    },
    {
      "cell_type": "code",
      "execution_count": null,
      "metadata": {
        "id": "0qygJ778GQF2"
      },
      "outputs": [],
      "source": [
        "import json\n",
        "from datetime import datetime\n",
        "from IPython.display import clear_output \n",
        "import numpy as np\n",
        "import pandas as pd\n",
        "import pytz\n",
        "from time import gmtime, strftime\n",
        "\n",
        "!pip install yahoo_fin --upgrade --no-cache-dir\n",
        "clear_output()"
      ]
    },
    {
      "cell_type": "code",
      "source": [
        "now= datetime.now()\n",
        "date_time = now.strftime(\"%Y-%m-%d %H:%M:%S.%f\")\n",
        "tzs = 'GMT+11'\n",
        "tza = 'GMT-5'\n",
        "print(date_time)\n",
        "print(tzs)\n",
        "print(tza)\n"
      ],
      "metadata": {
        "id": "25X__zEmcPcy",
        "colab": {
          "base_uri": "https://localhost:8080/"
        },
        "outputId": "92ae78b4-de2f-42ef-a629-9f5bbb00ca05"
      },
      "execution_count": null,
      "outputs": [
        {
          "output_type": "stream",
          "name": "stdout",
          "text": [
            "2023-01-24 07:18:50.342216\n",
            "GMT+11\n",
            "GMT-5\n"
          ]
        }
      ]
    },
    {
      "cell_type": "markdown",
      "source": [
        "# Tool for visualizing json format\n",
        "https://jsoncrack.com/editor"
      ],
      "metadata": {
        "id": "7qd97eQeooFJ"
      }
    },
    {
      "cell_type": "markdown",
      "source": [
        "# 1.Yahoo finance "
      ],
      "metadata": {
        "id": "5ouva0slqMDs"
      }
    },
    {
      "cell_type": "markdown",
      "source": [
        "## a. yahoo finance quote data"
      ],
      "metadata": {
        "id": "y3SSh3tnbwpo"
      }
    },
    {
      "cell_type": "code",
      "source": [
        "# get raw data\n",
        "\n",
        "import yahoo_fin.stock_info as si\n",
        "quote_table = si.get_quote_table(\"aapl\")\n",
        "quote_table\n"
      ],
      "metadata": {
        "colab": {
          "base_uri": "https://localhost:8080/"
        },
        "id": "bawcDI_7ZhX4",
        "outputId": "9c056f25-f5f9-4772-f583-777ca6c91798"
      },
      "execution_count": null,
      "outputs": [
        {
          "output_type": "execute_result",
          "data": {
            "text/plain": [
              "{'1y Target Est': 171.48,\n",
              " '52 Week Range': '124.17 - 179.61',\n",
              " 'Ask': '0.00 x 800',\n",
              " 'Avg. Volume': 81832000.0,\n",
              " 'Beta (5Y Monthly)': 1.27,\n",
              " 'Bid': '0.00 x 900',\n",
              " \"Day's Range\": '137.90 - 143.31',\n",
              " 'EPS (TTM)': 6.11,\n",
              " 'Earnings Date': 'Feb 02, 2023',\n",
              " 'Ex-Dividend Date': 'Nov 04, 2022',\n",
              " 'Forward Dividend & Yield': '0.92 (0.67%)',\n",
              " 'Market Cap': '2.235T',\n",
              " 'Open': 138.12,\n",
              " 'PE Ratio (TTM)': 23.09,\n",
              " 'Previous Close': 137.87,\n",
              " 'Quote Price': 141.11000061035156,\n",
              " 'Volume': 81760313.0}"
            ]
          },
          "metadata": {},
          "execution_count": 3
        }
      ]
    },
    {
      "cell_type": "code",
      "source": [
        "# Our data model\n",
        "jsonfile_quote = {\"data_source\":\"yahoo_finance\", \"dataset_type_id\": \"yf002\", \"timestamp\":date_time, \"timezone\":tzs,\n",
        "             \"events\":[{\"timestamp\":date_time, \"timezone\":tza, \"event_type\":'stock quote',   \"attribute\":quote_table, }],  \n",
        "             }\n",
        "# Write pretty print JSON data to file\n",
        "with open(\"jsonfile_quote.json\", \"w\") as write_file:\n",
        "    json.dump(jsonfile_quote, write_file, indent=4)\n",
        "\n",
        "jsonfile_quote"
      ],
      "metadata": {
        "colab": {
          "base_uri": "https://localhost:8080/"
        },
        "id": "HFVroXx7GU8z",
        "outputId": "bfd2147d-3944-4040-99b4-33918a349d88"
      },
      "execution_count": null,
      "outputs": [
        {
          "output_type": "execute_result",
          "data": {
            "text/plain": [
              "{'data_source': 'yahoo_finance',\n",
              " 'dataset_type_id': 'yf002',\n",
              " 'timestamp': '2023-01-24 07:18:50.342216',\n",
              " 'timezone': 'GMT+11',\n",
              " 'events': [{'timestamp': '2023-01-24 07:18:50.342216',\n",
              "   'timezone': 'GMT-5',\n",
              "   'event_type': 'stock quote',\n",
              "   'attribute': {'1y Target Est': 171.48,\n",
              "    '52 Week Range': '124.17 - 179.61',\n",
              "    'Ask': '0.00 x 800',\n",
              "    'Avg. Volume': 81832000.0,\n",
              "    'Beta (5Y Monthly)': 1.27,\n",
              "    'Bid': '0.00 x 900',\n",
              "    \"Day's Range\": '137.90 - 143.31',\n",
              "    'EPS (TTM)': 6.11,\n",
              "    'Earnings Date': 'Feb 02, 2023',\n",
              "    'Ex-Dividend Date': 'Nov 04, 2022',\n",
              "    'Forward Dividend & Yield': '0.92 (0.67%)',\n",
              "    'Market Cap': '2.235T',\n",
              "    'Open': 138.12,\n",
              "    'PE Ratio (TTM)': 23.09,\n",
              "    'Previous Close': 137.87,\n",
              "    'Quote Price': 141.11000061035156,\n",
              "    'Volume': 81760313.0}}]}"
            ]
          },
          "metadata": {},
          "execution_count": 4
        }
      ]
    },
    {
      "cell_type": "markdown",
      "source": [
        "## b. yahoo finance OHLC data"
      ],
      "metadata": {
        "id": "CWKR6dttdVD4"
      }
    },
    {
      "cell_type": "code",
      "source": [
        "# get raw data\n",
        "import yahoo_fin.stock_info as si\n",
        "ohlc = si.get_data(\"aapl\")\n",
        "ohlc['date'] = ohlc.index\n",
        "ohlc['date'] = pd.to_datetime(ohlc['date'],format='%Y-%m-%d %00:00:00.00 %Z' ).astype(str)\n",
        "ohlc.head()"
      ],
      "metadata": {
        "colab": {
          "base_uri": "https://localhost:8080/",
          "height": 206
        },
        "id": "POkQKj5idY7K",
        "outputId": "c937b90e-0b32-4575-f51d-c6030b399914"
      },
      "execution_count": null,
      "outputs": [
        {
          "output_type": "execute_result",
          "data": {
            "text/plain": [
              "                open      high       low     close  adjclose     volume  \\\n",
              "1980-12-12  0.128348  0.128906  0.128348  0.128348  0.099874  469033600   \n",
              "1980-12-15  0.122210  0.122210  0.121652  0.121652  0.094663  175884800   \n",
              "1980-12-16  0.113281  0.113281  0.112723  0.112723  0.087715  105728000   \n",
              "1980-12-17  0.115513  0.116071  0.115513  0.115513  0.089886   86441600   \n",
              "1980-12-18  0.118862  0.119420  0.118862  0.118862  0.092492   73449600   \n",
              "\n",
              "           ticker        date  \n",
              "1980-12-12   AAPL  1980-12-12  \n",
              "1980-12-15   AAPL  1980-12-15  \n",
              "1980-12-16   AAPL  1980-12-16  \n",
              "1980-12-17   AAPL  1980-12-17  \n",
              "1980-12-18   AAPL  1980-12-18  "
            ],
            "text/html": [
              "\n",
              "  <div id=\"df-6d8eddfd-f3ee-46e2-858b-3dea03340a2a\">\n",
              "    <div class=\"colab-df-container\">\n",
              "      <div>\n",
              "<style scoped>\n",
              "    .dataframe tbody tr th:only-of-type {\n",
              "        vertical-align: middle;\n",
              "    }\n",
              "\n",
              "    .dataframe tbody tr th {\n",
              "        vertical-align: top;\n",
              "    }\n",
              "\n",
              "    .dataframe thead th {\n",
              "        text-align: right;\n",
              "    }\n",
              "</style>\n",
              "<table border=\"1\" class=\"dataframe\">\n",
              "  <thead>\n",
              "    <tr style=\"text-align: right;\">\n",
              "      <th></th>\n",
              "      <th>open</th>\n",
              "      <th>high</th>\n",
              "      <th>low</th>\n",
              "      <th>close</th>\n",
              "      <th>adjclose</th>\n",
              "      <th>volume</th>\n",
              "      <th>ticker</th>\n",
              "      <th>date</th>\n",
              "    </tr>\n",
              "  </thead>\n",
              "  <tbody>\n",
              "    <tr>\n",
              "      <th>1980-12-12</th>\n",
              "      <td>0.128348</td>\n",
              "      <td>0.128906</td>\n",
              "      <td>0.128348</td>\n",
              "      <td>0.128348</td>\n",
              "      <td>0.099874</td>\n",
              "      <td>469033600</td>\n",
              "      <td>AAPL</td>\n",
              "      <td>1980-12-12</td>\n",
              "    </tr>\n",
              "    <tr>\n",
              "      <th>1980-12-15</th>\n",
              "      <td>0.122210</td>\n",
              "      <td>0.122210</td>\n",
              "      <td>0.121652</td>\n",
              "      <td>0.121652</td>\n",
              "      <td>0.094663</td>\n",
              "      <td>175884800</td>\n",
              "      <td>AAPL</td>\n",
              "      <td>1980-12-15</td>\n",
              "    </tr>\n",
              "    <tr>\n",
              "      <th>1980-12-16</th>\n",
              "      <td>0.113281</td>\n",
              "      <td>0.113281</td>\n",
              "      <td>0.112723</td>\n",
              "      <td>0.112723</td>\n",
              "      <td>0.087715</td>\n",
              "      <td>105728000</td>\n",
              "      <td>AAPL</td>\n",
              "      <td>1980-12-16</td>\n",
              "    </tr>\n",
              "    <tr>\n",
              "      <th>1980-12-17</th>\n",
              "      <td>0.115513</td>\n",
              "      <td>0.116071</td>\n",
              "      <td>0.115513</td>\n",
              "      <td>0.115513</td>\n",
              "      <td>0.089886</td>\n",
              "      <td>86441600</td>\n",
              "      <td>AAPL</td>\n",
              "      <td>1980-12-17</td>\n",
              "    </tr>\n",
              "    <tr>\n",
              "      <th>1980-12-18</th>\n",
              "      <td>0.118862</td>\n",
              "      <td>0.119420</td>\n",
              "      <td>0.118862</td>\n",
              "      <td>0.118862</td>\n",
              "      <td>0.092492</td>\n",
              "      <td>73449600</td>\n",
              "      <td>AAPL</td>\n",
              "      <td>1980-12-18</td>\n",
              "    </tr>\n",
              "  </tbody>\n",
              "</table>\n",
              "</div>\n",
              "      <button class=\"colab-df-convert\" onclick=\"convertToInteractive('df-6d8eddfd-f3ee-46e2-858b-3dea03340a2a')\"\n",
              "              title=\"Convert this dataframe to an interactive table.\"\n",
              "              style=\"display:none;\">\n",
              "        \n",
              "  <svg xmlns=\"http://www.w3.org/2000/svg\" height=\"24px\"viewBox=\"0 0 24 24\"\n",
              "       width=\"24px\">\n",
              "    <path d=\"M0 0h24v24H0V0z\" fill=\"none\"/>\n",
              "    <path d=\"M18.56 5.44l.94 2.06.94-2.06 2.06-.94-2.06-.94-.94-2.06-.94 2.06-2.06.94zm-11 1L8.5 8.5l.94-2.06 2.06-.94-2.06-.94L8.5 2.5l-.94 2.06-2.06.94zm10 10l.94 2.06.94-2.06 2.06-.94-2.06-.94-.94-2.06-.94 2.06-2.06.94z\"/><path d=\"M17.41 7.96l-1.37-1.37c-.4-.4-.92-.59-1.43-.59-.52 0-1.04.2-1.43.59L10.3 9.45l-7.72 7.72c-.78.78-.78 2.05 0 2.83L4 21.41c.39.39.9.59 1.41.59.51 0 1.02-.2 1.41-.59l7.78-7.78 2.81-2.81c.8-.78.8-2.07 0-2.86zM5.41 20L4 18.59l7.72-7.72 1.47 1.35L5.41 20z\"/>\n",
              "  </svg>\n",
              "      </button>\n",
              "      \n",
              "  <style>\n",
              "    .colab-df-container {\n",
              "      display:flex;\n",
              "      flex-wrap:wrap;\n",
              "      gap: 12px;\n",
              "    }\n",
              "\n",
              "    .colab-df-convert {\n",
              "      background-color: #E8F0FE;\n",
              "      border: none;\n",
              "      border-radius: 50%;\n",
              "      cursor: pointer;\n",
              "      display: none;\n",
              "      fill: #1967D2;\n",
              "      height: 32px;\n",
              "      padding: 0 0 0 0;\n",
              "      width: 32px;\n",
              "    }\n",
              "\n",
              "    .colab-df-convert:hover {\n",
              "      background-color: #E2EBFA;\n",
              "      box-shadow: 0px 1px 2px rgba(60, 64, 67, 0.3), 0px 1px 3px 1px rgba(60, 64, 67, 0.15);\n",
              "      fill: #174EA6;\n",
              "    }\n",
              "\n",
              "    [theme=dark] .colab-df-convert {\n",
              "      background-color: #3B4455;\n",
              "      fill: #D2E3FC;\n",
              "    }\n",
              "\n",
              "    [theme=dark] .colab-df-convert:hover {\n",
              "      background-color: #434B5C;\n",
              "      box-shadow: 0px 1px 3px 1px rgba(0, 0, 0, 0.15);\n",
              "      filter: drop-shadow(0px 1px 2px rgba(0, 0, 0, 0.3));\n",
              "      fill: #FFFFFF;\n",
              "    }\n",
              "  </style>\n",
              "\n",
              "      <script>\n",
              "        const buttonEl =\n",
              "          document.querySelector('#df-6d8eddfd-f3ee-46e2-858b-3dea03340a2a button.colab-df-convert');\n",
              "        buttonEl.style.display =\n",
              "          google.colab.kernel.accessAllowed ? 'block' : 'none';\n",
              "\n",
              "        async function convertToInteractive(key) {\n",
              "          const element = document.querySelector('#df-6d8eddfd-f3ee-46e2-858b-3dea03340a2a');\n",
              "          const dataTable =\n",
              "            await google.colab.kernel.invokeFunction('convertToInteractive',\n",
              "                                                     [key], {});\n",
              "          if (!dataTable) return;\n",
              "\n",
              "          const docLinkHtml = 'Like what you see? Visit the ' +\n",
              "            '<a target=\"_blank\" href=https://colab.research.google.com/notebooks/data_table.ipynb>data table notebook</a>'\n",
              "            + ' to learn more about interactive tables.';\n",
              "          element.innerHTML = '';\n",
              "          dataTable['output_type'] = 'display_data';\n",
              "          await google.colab.output.renderOutput(dataTable, element);\n",
              "          const docLink = document.createElement('div');\n",
              "          docLink.innerHTML = docLinkHtml;\n",
              "          element.appendChild(docLink);\n",
              "        }\n",
              "      </script>\n",
              "    </div>\n",
              "  </div>\n",
              "  "
            ]
          },
          "metadata": {},
          "execution_count": 5
        }
      ]
    },
    {
      "cell_type": "code",
      "source": [
        "# transform in to json\n",
        "import ast\n",
        "ohlc_json = ohlc.to_json(orient=\"records\")\n",
        "ohlc_json = ast.literal_eval(ohlc_json)\n",
        "ohlc_json = ohlc_json[0:3]\n",
        "ohlc_json"
      ],
      "metadata": {
        "colab": {
          "base_uri": "https://localhost:8080/"
        },
        "id": "FHoYsqm5dUCW",
        "outputId": "e186101c-a19c-4159-bc41-75ea9c0fc8ec"
      },
      "execution_count": null,
      "outputs": [
        {
          "output_type": "execute_result",
          "data": {
            "text/plain": [
              "[{'open': 0.1283479929,\n",
              "  'high': 0.1289059967,\n",
              "  'low': 0.1283479929,\n",
              "  'close': 0.1283479929,\n",
              "  'adjclose': 0.0998738259,\n",
              "  'volume': 469033600,\n",
              "  'ticker': 'AAPL',\n",
              "  'date': '1980-12-12'},\n",
              " {'open': 0.1222100034,\n",
              "  'high': 0.1222100034,\n",
              "  'low': 0.1216519997,\n",
              "  'close': 0.1216519997,\n",
              "  'adjclose': 0.0946633369,\n",
              "  'volume': 175884800,\n",
              "  'ticker': 'AAPL',\n",
              "  'date': '1980-12-15'},\n",
              " {'open': 0.1132809967,\n",
              "  'high': 0.1132809967,\n",
              "  'low': 0.1127230003,\n",
              "  'close': 0.1127230003,\n",
              "  'adjclose': 0.0877152607,\n",
              "  'volume': 105728000,\n",
              "  'ticker': 'AAPL',\n",
              "  'date': '1980-12-16'}]"
            ]
          },
          "metadata": {},
          "execution_count": 6
        }
      ]
    },
    {
      "cell_type": "code",
      "source": [
        "# Our data model\n",
        "jsonfile_ohlc = {\"data_source\":\"yahoo_finance\", \"dataset_type_id\": \"yf001\", \"timestamp\":date_time, \"timezone\":tzs,\n",
        "          \"events\":[]}\n",
        "for i in range(len(ohlc_json)):\n",
        "  datetime_object = pd.to_datetime(ohlc_json[i]['date'], format='%Y-%m-%d %H:%M:%S.%f' )\n",
        "  datetime_object= datetime_object.strftime('%Y-%m-%d %H:%M:%S.%f')\n",
        "  jsonfile_ohlc['events'].append({\"timestamp\":datetime_object,\"timezone\":tza, \"event_type\":'stock ohlc timeseries',   \"attribute\":ohlc_json[i] })\n",
        "\n",
        "# Write pretty print JSON data to file\n",
        "with open(\"jsonfile_ohlc.json\", \"w\") as write_file:\n",
        "    json.dump(jsonfile_ohlc, write_file, indent=4)\n",
        "    \n",
        "jsonfile_ohlc"
      ],
      "metadata": {
        "colab": {
          "base_uri": "https://localhost:8080/"
        },
        "id": "B9ksmY5chZDc",
        "outputId": "c5e58284-7464-45ba-cb3e-de285068d588"
      },
      "execution_count": null,
      "outputs": [
        {
          "output_type": "execute_result",
          "data": {
            "text/plain": [
              "{'data_source': 'yahoo_finance',\n",
              " 'dataset_type_id': 'yf001',\n",
              " 'timestamp': '2023-01-24 07:18:50.342216',\n",
              " 'timezone': 'GMT+11',\n",
              " 'events': [{'timestamp': '1980-12-12 00:00:00.000000',\n",
              "   'timezone': 'GMT-5',\n",
              "   'event_type': 'stock ohlc timeseries',\n",
              "   'attribute': {'open': 0.1283479929,\n",
              "    'high': 0.1289059967,\n",
              "    'low': 0.1283479929,\n",
              "    'close': 0.1283479929,\n",
              "    'adjclose': 0.0998738259,\n",
              "    'volume': 469033600,\n",
              "    'ticker': 'AAPL',\n",
              "    'date': '1980-12-12'}},\n",
              "  {'timestamp': '1980-12-15 00:00:00.000000',\n",
              "   'timezone': 'GMT-5',\n",
              "   'event_type': 'stock ohlc timeseries',\n",
              "   'attribute': {'open': 0.1222100034,\n",
              "    'high': 0.1222100034,\n",
              "    'low': 0.1216519997,\n",
              "    'close': 0.1216519997,\n",
              "    'adjclose': 0.0946633369,\n",
              "    'volume': 175884800,\n",
              "    'ticker': 'AAPL',\n",
              "    'date': '1980-12-15'}},\n",
              "  {'timestamp': '1980-12-16 00:00:00.000000',\n",
              "   'timezone': 'GMT-5',\n",
              "   'event_type': 'stock ohlc timeseries',\n",
              "   'attribute': {'open': 0.1132809967,\n",
              "    'high': 0.1132809967,\n",
              "    'low': 0.1127230003,\n",
              "    'close': 0.1127230003,\n",
              "    'adjclose': 0.0877152607,\n",
              "    'volume': 105728000,\n",
              "    'ticker': 'AAPL',\n",
              "    'date': '1980-12-16'}}]}"
            ]
          },
          "metadata": {},
          "execution_count": 7
        }
      ]
    },
    {
      "cell_type": "markdown",
      "source": [
        "## c. exmaple yahoo finance news data"
      ],
      "metadata": {
        "id": "CLUlYzihgCik"
      }
    },
    {
      "cell_type": "code",
      "source": [
        "# get raw data\n",
        "from yahoo_fin import news\n",
        "\n",
        "news_raw = news.get_yf_rss(\"aapl\")\n",
        "news_raw[0] # only use 1 news\n"
      ],
      "metadata": {
        "colab": {
          "base_uri": "https://localhost:8080/"
        },
        "id": "g8HZpgsVgCpo",
        "outputId": "6017e913-ae87-4a6b-ab2b-04894ff65cb1"
      },
      "execution_count": null,
      "outputs": [
        {
          "output_type": "execute_result",
          "data": {
            "text/plain": [
              "{'summary': 'John Rotonti, head of investor training and development at The Motley Fool, talks with Jurrien Timmer, director of global macro at Fidelity Investments, about what history can teach about the current market cycle and sectors that may hold opportunities for investors.  Motley Fool Stock Advisor is open to new members for just $99 a year.',\n",
              " 'summary_detail': {'type': 'text/html',\n",
              "  'language': None,\n",
              "  'base': 'https://feeds.finance.yahoo.com/rss/2.0/headline?s=aapl&region=US&lang=en-US',\n",
              "  'value': 'John Rotonti, head of investor training and development at The Motley Fool, talks with Jurrien Timmer, director of global macro at Fidelity Investments, about what history can teach about the current market cycle and sectors that may hold opportunities for investors.  Motley Fool Stock Advisor is open to new members for just $99 a year.'},\n",
              " 'id': '15179e1d-766c-3717-9813-aac18def64ce',\n",
              " 'guidislink': False,\n",
              " 'links': [{'rel': 'alternate',\n",
              "   'type': 'text/html',\n",
              "   'href': 'https://finance.yahoo.com/m/15179e1d-766c-3717-9813-aac18def64ce/big-tech-layoffs%3B-signs-of.html?.tsrc=rss'}],\n",
              " 'link': 'https://finance.yahoo.com/m/15179e1d-766c-3717-9813-aac18def64ce/big-tech-layoffs%3B-signs-of.html?.tsrc=rss',\n",
              " 'published': 'Tue, 24 Jan 2023 02:21:00 +0000',\n",
              " 'published_parsed': time.struct_time(tm_year=2023, tm_mon=1, tm_mday=24, tm_hour=2, tm_min=21, tm_sec=0, tm_wday=1, tm_yday=24, tm_isdst=0),\n",
              " 'title': 'Big Tech Layoffs; Signs of Trouble in the Housing Market',\n",
              " 'title_detail': {'type': 'text/plain',\n",
              "  'language': None,\n",
              "  'base': 'https://feeds.finance.yahoo.com/rss/2.0/headline?s=aapl&region=US&lang=en-US',\n",
              "  'value': 'Big Tech Layoffs; Signs of Trouble in the Housing Market'}}"
            ]
          },
          "metadata": {},
          "execution_count": 8
        }
      ]
    },
    {
      "cell_type": "code",
      "source": [
        "# Our data model\n",
        "jsonfile_news1 = {\"data_source\":\"yahoo_finance\", \"dataset_type_id\": \"yf003\", \"timestamp\":date_time, \"timezone\":tzs,\n",
        "            \"events\":[]  \n",
        "            }\n",
        "\n",
        "print(\"======================news 1======================\")\n",
        "\n",
        "for i in range(len(news_raw)):\n",
        "  datetime_str = news_raw[0]['published'][5:]\n",
        "  datetime_object = datetime.strptime(datetime_str, '%d %b %Y %H:%M:%S +0000')\n",
        "  datetime_object = pd.to_datetime(datetime_object, format='%Y-%m-%d %H:%M:%S.%f' )\n",
        "  datetime_object= datetime_object.strftime('%Y-%m-%d %H:%M:%S.%f')\n",
        "  jsonfile_news1[\"events\"].append({\"timestamp\":datetime_object, \"timezone\":tza, \"event_type\":'stock news',   \n",
        "                                   \"attribute\":news_raw[i] } )\n",
        "  if i == 1:\n",
        "    break\n",
        "\n",
        "# Write pretty print JSON data to file\n",
        "with open(\"jsonfile_news.json\", \"w\") as write_file:\n",
        "    json.dump(jsonfile_news1, write_file, indent=4)\n",
        "\n",
        "jsonfile_news1\n"
      ],
      "metadata": {
        "id": "fXt6RQLHgnZn",
        "colab": {
          "base_uri": "https://localhost:8080/"
        },
        "outputId": "9e652cb3-3a14-413b-b57d-5200dec957f8"
      },
      "execution_count": null,
      "outputs": [
        {
          "output_type": "stream",
          "name": "stdout",
          "text": [
            "======================news 1======================\n"
          ]
        },
        {
          "output_type": "execute_result",
          "data": {
            "text/plain": [
              "{'data_source': 'yahoo_finance',\n",
              " 'dataset_type_id': 'yf003',\n",
              " 'timestamp': '2023-01-24 07:18:50.342216',\n",
              " 'timezone': 'GMT+11',\n",
              " 'events': [{'timestamp': '2023-01-24 02:21:00.000000',\n",
              "   'timezone': 'GMT-5',\n",
              "   'event_type': 'stock news',\n",
              "   'attribute': {'summary': 'John Rotonti, head of investor training and development at The Motley Fool, talks with Jurrien Timmer, director of global macro at Fidelity Investments, about what history can teach about the current market cycle and sectors that may hold opportunities for investors.  Motley Fool Stock Advisor is open to new members for just $99 a year.',\n",
              "    'summary_detail': {'type': 'text/html',\n",
              "     'language': None,\n",
              "     'base': 'https://feeds.finance.yahoo.com/rss/2.0/headline?s=aapl&region=US&lang=en-US',\n",
              "     'value': 'John Rotonti, head of investor training and development at The Motley Fool, talks with Jurrien Timmer, director of global macro at Fidelity Investments, about what history can teach about the current market cycle and sectors that may hold opportunities for investors.  Motley Fool Stock Advisor is open to new members for just $99 a year.'},\n",
              "    'id': '15179e1d-766c-3717-9813-aac18def64ce',\n",
              "    'guidislink': False,\n",
              "    'links': [{'rel': 'alternate',\n",
              "      'type': 'text/html',\n",
              "      'href': 'https://finance.yahoo.com/m/15179e1d-766c-3717-9813-aac18def64ce/big-tech-layoffs%3B-signs-of.html?.tsrc=rss'}],\n",
              "    'link': 'https://finance.yahoo.com/m/15179e1d-766c-3717-9813-aac18def64ce/big-tech-layoffs%3B-signs-of.html?.tsrc=rss',\n",
              "    'published': 'Tue, 24 Jan 2023 02:21:00 +0000',\n",
              "    'published_parsed': time.struct_time(tm_year=2023, tm_mon=1, tm_mday=24, tm_hour=2, tm_min=21, tm_sec=0, tm_wday=1, tm_yday=24, tm_isdst=0),\n",
              "    'title': 'Big Tech Layoffs; Signs of Trouble in the Housing Market',\n",
              "    'title_detail': {'type': 'text/plain',\n",
              "     'language': None,\n",
              "     'base': 'https://feeds.finance.yahoo.com/rss/2.0/headline?s=aapl&region=US&lang=en-US',\n",
              "     'value': 'Big Tech Layoffs; Signs of Trouble in the Housing Market'}}},\n",
              "  {'timestamp': '2023-01-24 02:21:00.000000',\n",
              "   'timezone': 'GMT-5',\n",
              "   'event_type': 'stock news',\n",
              "   'attribute': {'summary': 'Dow Jones futures were little changed after the Dow Jones Industrial Average rallied 253 points Monday. These are 10 best stocks to buy and watch.',\n",
              "    'summary_detail': {'type': 'text/html',\n",
              "     'language': None,\n",
              "     'base': 'https://feeds.finance.yahoo.com/rss/2.0/headline?s=aapl&region=US&lang=en-US',\n",
              "     'value': 'Dow Jones futures were little changed after the Dow Jones Industrial Average rallied 253 points Monday. These are 10 best stocks to buy and watch.'},\n",
              "    'id': '6da4ac91-cb88-3718-aa0f-4984bfd480cf',\n",
              "    'guidislink': False,\n",
              "    'links': [{'rel': 'alternate',\n",
              "      'type': 'text/html',\n",
              "      'href': 'https://finance.yahoo.com/m/6da4ac91-cb88-3718-aa0f-4984bfd480cf/dow-jones-rallies-250-points%3B.html?.tsrc=rss'}],\n",
              "    'link': 'https://finance.yahoo.com/m/6da4ac91-cb88-3718-aa0f-4984bfd480cf/dow-jones-rallies-250-points%3B.html?.tsrc=rss',\n",
              "    'published': 'Tue, 24 Jan 2023 00:28:12 +0000',\n",
              "    'published_parsed': time.struct_time(tm_year=2023, tm_mon=1, tm_mday=24, tm_hour=0, tm_min=28, tm_sec=12, tm_wday=1, tm_yday=24, tm_isdst=0),\n",
              "    'title': 'Dow Jones Rallies 250 Points; What To Do Now; 10 Best Stocks To Buy And Watch Now',\n",
              "    'title_detail': {'type': 'text/plain',\n",
              "     'language': None,\n",
              "     'base': 'https://feeds.finance.yahoo.com/rss/2.0/headline?s=aapl&region=US&lang=en-US',\n",
              "     'value': 'Dow Jones Rallies 250 Points; What To Do Now; 10 Best Stocks To Buy And Watch Now'}}}]}"
            ]
          },
          "metadata": {},
          "execution_count": 9
        }
      ]
    },
    {
      "cell_type": "code",
      "source": [],
      "metadata": {
        "id": "ZVxJTleFkwHp"
      },
      "execution_count": null,
      "outputs": []
    }
  ]
}